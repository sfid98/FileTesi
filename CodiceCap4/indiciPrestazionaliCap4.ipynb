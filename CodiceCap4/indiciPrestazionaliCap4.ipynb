{
  "nbformat": 4,
  "nbformat_minor": 0,
  "metadata": {
    "colab": {
      "name": "confrontoImageClassification.ipynb",
      "provenance": [],
      "collapsed_sections": []
    },
    "kernelspec": {
      "name": "python3",
      "display_name": "Python 3"
    },
    "language_info": {
      "name": "python"
    },
    "accelerator": "GPU"
  },
  "cells": [
    {
      "cell_type": "code",
      "metadata": {
        "id": "9I6Q0gIiEBhF"
      },
      "source": [
        "import numpy as np\n",
        "import tensorflow\n",
        "import warnings\n",
        "warnings.filterwarnings('ignore')\n",
        "import cv2\n",
        "import numpy as np\n",
        "import os\n",
        "import matplotlib.pyplot as plt\n",
        "from sklearn.model_selection import train_test_split\n",
        "from keras.preprocessing.image import ImageDataGenerator\n",
        "from keras.utils.np_utils import to_categorical\n",
        "from keras.models import Sequential\n",
        "from keras.layers import Conv2D, Dense, MaxPooling2D, Activation, Dropout, Flatten\n",
        "test_labels =  [0,0,0,0,0,0,0,0,0,0,\n",
        "               0,0,0,0,0,0,0,0,0,0,\n",
        "               0,0,0,0,0,0,0,0,0,0,\n",
        "               0,0,0,0,0,0,0,0,0,0,\n",
        "               0,0,0,0,0,0,0,0,0,0,\n",
        "               1,1,1,1,1,1,1,1,1,1,\n",
        "               1,1,1,1,1,1,1,1,1,1,\n",
        "               1,1,1,1,1,1,1,1,1,1,\n",
        "               1,1,1,1,1,1,1,1,1,1,\n",
        "               1,1,1,1,1,1,1,1,1,1\n",
        "               ]"
      ],
      "execution_count": null,
      "outputs": []
    },
    {
      "cell_type": "code",
      "metadata": {
        "id": "8RC1sE5MFBKX"
      },
      "source": [
        "!unzip immaginiRitagliate.zip"
      ],
      "execution_count": null,
      "outputs": []
    },
    {
      "cell_type": "code",
      "metadata": {
        "colab": {
          "base_uri": "https://localhost:8080/"
        },
        "id": "gMlC2lgQGcjL",
        "outputId": "69c8b739-442e-4003-e13c-1d79f10ac448"
      },
      "source": [
        "path='immaginiRitagliate'\n",
        "images=[]\n",
        "\n",
        "imgDimension=(32,32,3)\n",
        "\n",
        "\n",
        "#########################################\n",
        "\n",
        "myList=os.listdir(path)\n",
        "\n",
        "numOfClasses=len(myList)\n",
        "for x in range(0, numOfClasses):\n",
        "\tmyPicList=os.listdir(path+\"/\"+str(x))\n",
        "\t# myData/0/img.jpg\n",
        "\tfor y in myPicList:\n",
        "\t\tcurImg=cv2.imread(path+\"/\"+str(x)+\"/\"+y)\n",
        "\t\tcurImg=cv2.resize(curImg,(imgDimension[0],imgDimension[1]))\n",
        "\t\timages.append(curImg)\n",
        "\tprint(x)\n",
        "#immagini convertite in un array numpy\n",
        "images=np.array(images)\n",
        "print(len(images))\n"
      ],
      "execution_count": null,
      "outputs": [
        {
          "output_type": "stream",
          "name": "stdout",
          "text": [
            "0\n",
            "1\n",
            "100\n"
          ]
        }
      ]
    },
    {
      "cell_type": "code",
      "metadata": {
        "id": "aFTjwtnrG9ha"
      },
      "source": [
        ""
      ],
      "execution_count": null,
      "outputs": []
    },
    {
      "cell_type": "code",
      "metadata": {
        "id": "alI1K1f0GvQg"
      },
      "source": [
        "import tensorflow as tf\n",
        "\n",
        "model = tf.keras.models.load_model('MyTrainingModel_1.h5')\n",
        "model.summary()\n",
        "\n"
      ],
      "execution_count": null,
      "outputs": []
    },
    {
      "cell_type": "code",
      "metadata": {
        "colab": {
          "base_uri": "https://localhost:8080/"
        },
        "id": "9SF0w9Q-R8Ah",
        "outputId": "7ecb808f-309f-454d-a4f4-8bb0e1736246"
      },
      "source": [
        "def preprocessing(img):\n",
        "\t# img=np.astype(\"uint8\")\n",
        "\timg=cv2.cvtColor(img, cv2.COLOR_BGR2GRAY)\n",
        "\timg=cv2.equalizeHist(img)\n",
        "\timg=img/255\n",
        "\treturn img\n",
        "\n",
        "x_test=np.array(list(map(preprocessing, images))) #Effettua il \"preprocessing\" di ogni immagine all'interno di x_test\n",
        "x_test=x_test.reshape(x_test.shape[0], x_test.shape[1], x_test.shape[2],1)\n",
        "\n",
        "print(x_test.shape[0])\n",
        "print(x_test.shape[1])\n",
        "print(x_test.shape[2])\n",
        "print(x_test.shape)\n",
        "\n",
        "\n"
      ],
      "execution_count": null,
      "outputs": [
        {
          "output_type": "stream",
          "name": "stdout",
          "text": [
            "100\n",
            "32\n",
            "32\n",
            "(100, 32, 32, 1)\n"
          ]
        }
      ]
    },
    {
      "cell_type": "code",
      "metadata": {
        "colab": {
          "base_uri": "https://localhost:8080/"
        },
        "id": "clQQ3OP-KVa0",
        "outputId": "c0e2c8b2-fbf8-4115-cc64-6c81699a0e1c"
      },
      "source": [
        "\n",
        "\n",
        "y_test=to_categorical(test_labels, numOfClasses)\n",
        "\n",
        "test_loss, test_acc = model.evaluate(x_test,  y_test, verbose=2)\n"
      ],
      "execution_count": null,
      "outputs": [
        {
          "output_type": "stream",
          "name": "stdout",
          "text": [
            "4/4 - 1s - loss: 3.5720 - accuracy: 0.7200\n"
          ]
        }
      ]
    },
    {
      "cell_type": "code",
      "metadata": {
        "id": "LIIPYpmqZrwd"
      },
      "source": [
        ""
      ],
      "execution_count": null,
      "outputs": []
    },
    {
      "cell_type": "code",
      "metadata": {
        "id": "zH_gCzjcWBvJ"
      },
      "source": [
        "pred = []\n",
        "for x in range(100):\n",
        "\n",
        "  img=x_test[x].reshape(1, 32, 32, 1)\n",
        "  prediction=model.predict(img)\n",
        "  probabilityValue=np.amax(prediction)\n",
        "  max_index_row = np.argmax(prediction, axis=1)\n",
        "  pred.append(max_index_row)\n",
        "\n"
      ],
      "execution_count": null,
      "outputs": []
    },
    {
      "cell_type": "code",
      "metadata": {
        "colab": {
          "base_uri": "https://localhost:8080/"
        },
        "id": "5BBC7moIY-GL",
        "outputId": "327e0928-5fa6-4a92-86df-d7fed66104c3"
      },
      "source": [
        "print(pred)"
      ],
      "execution_count": null,
      "outputs": [
        {
          "output_type": "stream",
          "name": "stdout",
          "text": [
            "[array([1]), array([1]), array([1]), array([0]), array([0]), array([0]), array([0]), array([0]), array([1]), array([0]), array([1]), array([0]), array([0]), array([1]), array([1]), array([0]), array([0]), array([0]), array([1]), array([0]), array([1]), array([0]), array([1]), array([0]), array([0]), array([1]), array([0]), array([0]), array([0]), array([0]), array([1]), array([1]), array([0]), array([0]), array([1]), array([1]), array([0]), array([0]), array([0]), array([1]), array([1]), array([1]), array([1]), array([0]), array([0]), array([0]), array([0]), array([1]), array([1]), array([1]), array([0]), array([1]), array([1]), array([1]), array([1]), array([0]), array([1]), array([1]), array([1]), array([0]), array([1]), array([1]), array([1]), array([1]), array([1]), array([1]), array([1]), array([1]), array([1]), array([1]), array([1]), array([1]), array([1]), array([0]), array([1]), array([1]), array([1]), array([1]), array([1]), array([1]), array([1]), array([1]), array([1]), array([1]), array([1]), array([1]), array([1]), array([1]), array([1]), array([0]), array([1]), array([0]), array([1]), array([1]), array([1]), array([1]), array([1]), array([1]), array([1]), array([1])]\n"
          ]
        }
      ]
    },
    {
      "cell_type": "code",
      "metadata": {
        "colab": {
          "base_uri": "https://localhost:8080/"
        },
        "id": "5Ir_QRTLZs38",
        "outputId": "ba08f83e-c183-462f-c5c6-b0db399ffb14"
      },
      "source": [
        "TP = 0\n",
        "TN = 0\n",
        "FP = 0\n",
        "FN = 0\n",
        "\n",
        "for x in range(100):\n",
        "  if pred[x] == test_labels[x]:\n",
        "    if pred[x] == 0:\n",
        "      TP = TP + 1\n",
        "    else:\n",
        "      TN = TN + 1\n",
        "  elif pred[x] == 0 and test_labels[x] == 1:\n",
        "      FP = FP + 1\n",
        "  else:\n",
        "      FN = FN + 1\n",
        "\n",
        "print(TP,FP,TN,FN)"
      ],
      "execution_count": null,
      "outputs": [
        {
          "output_type": "stream",
          "name": "stdout",
          "text": [
            "28\n",
            "44\n",
            "28 6 44 22\n"
          ]
        }
      ]
    },
    {
      "cell_type": "code",
      "metadata": {
        "colab": {
          "base_uri": "https://localhost:8080/"
        },
        "id": "pDKgL3_rZTMZ",
        "outputId": "f332b4f5-7dd5-4a04-8600-b1341e1b5243"
      },
      "source": [
        "# PARAMETRI PRESTAZIONALI\n",
        "sensitivity = TP/(TP + FN)\n",
        "precision = TP/(TP + FP)\n",
        "accuracy = (TP + TN)/(TP+FP+TN+FN)\n",
        "specificity = TN/(TN + FP)\n",
        "\n",
        "print('La precisione è: ', precision)\n",
        "print('La sensitività è: ' , sensitivity)\n",
        "print('La accuratezza è: ' , accuracy)\n",
        "print('La specificità è: ', specificity)\n"
      ],
      "execution_count": null,
      "outputs": [
        {
          "output_type": "stream",
          "name": "stdout",
          "text": [
            "La precisione è:  0.8235294117647058\n",
            "La sensitività è:  0.56\n",
            "La accuratezza è:  0.72\n",
            "La specificità è:  0.88\n"
          ]
        }
      ]
    },
    {
      "cell_type": "code",
      "metadata": {
        "colab": {
          "base_uri": "https://localhost:8080/",
          "height": 486
        },
        "id": "LmjoMs2-CjKk",
        "outputId": "a743cb1a-cc68-4ec0-8c1b-ac46178cf657"
      },
      "source": [
        "# GENERAZIONE MATRICE DI CONFUSIONE\n",
        "# Se l'algoritmo ha fatto una predizione in una zona dove non c'era nulla allora questa verrà considerata nell'ultima colonna della matrice (in corrispondenza della riga di una data classe (masked/unmasked)\n",
        "# Se l'algoritmo non riconosce una zona di interesse dove invece è presente l'oggetto di interesse questa verrà considerata nell'ultima riga (in corrispondenza della colonna di una data classe)\n",
        "import seaborn as sn\n",
        "import pandas as pd\n",
        "import matplotlib.pyplot as plt\n",
        "array = [[TP,TN],[FP,FN]]\n",
        "df_cm = pd.DataFrame(array, index = [\"masked\",\"unmasked\"],\n",
        "                  columns = [\"masked\",\"unmasked\"])\n",
        "plt.figure(figsize = (10,7))\n",
        "\n",
        "sn.set(font_scale=2)\n",
        "\n",
        "sn.heatmap(df_cm, annot=True,cmap=\"Blues\")\n",
        "plt.ylabel('True label')\n",
        "plt.xlabel('Predicted label')"
      ],
      "execution_count": null,
      "outputs": [
        {
          "output_type": "execute_result",
          "data": {
            "text/plain": [
              "Text(0.5, 29.5, 'Predicted label')"
            ]
          },
          "metadata": {},
          "execution_count": 17
        },
        {
          "output_type": "display_data",
          "data": {
            "image/png": "[encoded data removed]",
            "text/plain": [
              "<Figure size 720x504 with 2 Axes>"
            ]
          },
          "metadata": {
            "needs_background": "light"
          }
        }
      ]
    },
    {
      "cell_type": "code",
      "metadata": {
        "id": "M58D0MoTYWbi"
      },
      "source": [
        ""
      ],
      "execution_count": null,
      "outputs": []
    }
  ]
}